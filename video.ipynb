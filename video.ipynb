{
 "cells": [
  {
   "cell_type": "code",
   "execution_count": 3,
   "metadata": {},
   "outputs": [],
   "source": [
    "import sys\n",
    "sys.path.remove('/opt/ros/kinetic/lib/python2.7/dist-packages')\n",
    "import cv2\n",
    "import matplotlib.pyplot as plt\n",
    "import numpy as np\n",
    "from PIL import Image\n",
    "\n",
    "\n",
    "\n",
    "\n",
    "#cv2.destroyAllWindows()"
   ]
  },
  {
   "cell_type": "code",
   "execution_count": 14,
   "metadata": {},
   "outputs": [],
   "source": [
    "canny_on_video = True\n",
    "path_of_image = 'depth/0034.jpg'\n",
    "\n",
    "if canny_on_video :\n",
    "    cap = cv2.VideoCapture('depth/depthvideo.mp4')\n",
    "while(1):\n",
    "    if canny_on_video:\n",
    "        ret, frame = cap.read()\n",
    "        if not ret:\n",
    "            break\n",
    "    else:\n",
    "        frame = cv2.imread(path_of_image,1)\n",
    "    frame = cv2.cvtColor(frame, cv2.COLOR_BGR2GRAY)\n",
    "    image, contours,heirarchy = cv2.findContours(frame,cv2.RETR_EXTERNAL,cv2.CHAIN_APPROX_SIMPLE)\n",
    "\n",
    "    for cnt in contours:\n",
    "        if cv2.contourArea(cnt) >5000:\n",
    "            x,y,w,h = cv2.boundingRect(cnt)\n",
    "            cv2.rectangle(frame,(x ,y),(x+w,y+h),(255,255,255),2)\n",
    "            cv2.putText(frame,'Object Detected',(x,y-10), cv2.FONT_HERSHEY_SIMPLEX, 0.3, (255,255,255), 1, cv2.LINE_AA)\n",
    "    '''\n",
    "    cv2.imshow('frame',frame)\n",
    "    \n",
    "    k = cv2.waitKey() & 0xff\n",
    "    if k == ord('q'):\n",
    "        break \n",
    "        plt.figure(figsize=[20,20])\n",
    "    #plt.subplot(121);plt.imshow(fgmask_3[:,:,::-1]);plt.title(\"Original Image\")\n",
    "    plt.subplot(122);plt.imshow(frame[:,:,::-1]);plt.title(\"Modified Image\")\n",
    "    ''' \n",
    "    cv2.imshow(\"img\",frame)\n",
    "    k = cv2.waitKey(100) & 0xFF\n",
    "\n",
    "    \n",
    "if canny_on_video:\n",
    "    cap.release()\n",
    "cv2.destroyAllWindows()"
   ]
  },
  {
   "cell_type": "code",
   "execution_count": null,
   "metadata": {},
   "outputs": [],
   "source": []
  }
 ],
 "metadata": {
  "kernelspec": {
   "display_name": "Python 3.8.3 64-bit ('base': conda)",
   "language": "python",
   "name": "python38364bitbaseconda26a461f2764e4ede9f5d2e8a6cadf578"
  },
  "language_info": {
   "codemirror_mode": {
    "name": "ipython",
    "version": 3
   },
   "file_extension": ".py",
   "mimetype": "text/x-python",
   "name": "python",
   "nbconvert_exporter": "python",
   "pygments_lexer": "ipython3",
   "version": "3.8.3"
  }
 },
 "nbformat": 4,
 "nbformat_minor": 4
}
